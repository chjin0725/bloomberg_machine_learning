{
 "cells": [
  {
   "cell_type": "code",
   "execution_count": 85,
   "metadata": {},
   "outputs": [],
   "source": [
    "import numpy as np\n",
    "from scipy.optimize import minimize\n",
    "from sklearn.preprocessing import StandardScaler\n",
    "from sklearn.base import BaseEstimator, ClassifierMixin\n",
    "import matplotlib.pyplot as plt\n",
    "from functools import partial\n",
    "from sklearn.calibration import calibration_curve"
   ]
  },
  {
   "cell_type": "markdown",
   "metadata": {},
   "source": [
    "## 3.3-2"
   ]
  },
  {
   "cell_type": "code",
   "execution_count": 36,
   "metadata": {},
   "outputs": [],
   "source": [
    "def f_objective(theta, X, y, l2_param=1):\n",
    "    '''\n",
    "    Args:\n",
    "        theta: 1D numpy array of size num_features\n",
    "        X: 2D numpy array of size (num_instances, num_features)\n",
    "        y: 1D numpy array of size num_instances\n",
    "        l2_param: regularization parameter\n",
    "\n",
    "    Returns:\n",
    "        objective: scalar value of objective function\n",
    "    '''\n",
    "    n = X.shape[0]\n",
    "    loss = (-y) * np.dot(X,theta)\n",
    "    loss = np.logaddexp(0,loss)\n",
    "    loss = np.sum(loss)/n\n",
    "    \n",
    "    reg = np.linalg.norm(theta, ord=2)**2 ## np.dot(theta, theta) 혹은 theta@theta로 해도됨.    \n",
    "    objective = loss + l2_param*reg\n",
    "\n",
    "    return objective\n",
    "    "
   ]
  },
  {
   "cell_type": "markdown",
   "metadata": {},
   "source": [
    "## 3.3-3"
   ]
  },
  {
   "cell_type": "code",
   "execution_count": 53,
   "metadata": {},
   "outputs": [],
   "source": [
    "def fit_logistic_reg(X, y, objective_function, l2_param=1):\n",
    "    '''\n",
    "    Args:\n",
    "        X: 2D numpy array of size (num_instances, num_features)\n",
    "        y: 1D numpy array of size num_instances\n",
    "        objective_function: function returning the value of the objective\n",
    "        l2_param: regularization parameter\n",
    "        \n",
    "    Returns:\n",
    "        optimal_theta: 1D numpy array of size num_features\n",
    "    '''\n",
    "\n",
    "    n, num_ftrs = X.shape\n",
    "    \n",
    "    obj = partial(objective_function, X=X, y=y, l2_param=l2_param)\n",
    "    \n",
    "    \n",
    "    w_0 = np.zeros(num_ftrs)\n",
    "    w = minimize(obj, w_0).x\n",
    "    return w"
   ]
  },
  {
   "cell_type": "code",
   "execution_count": 15,
   "metadata": {},
   "outputs": [
    {
     "data": {
      "text/plain": [
       "array([1.31326169, 2.12692801, 3.04858735])"
      ]
     },
     "execution_count": 15,
     "metadata": {},
     "output_type": "execute_result"
    }
   ],
   "source": [
    "np.logaddexp(0,np.array([1,2,3]))"
   ]
  },
  {
   "cell_type": "code",
   "execution_count": 15,
   "metadata": {},
   "outputs": [
    {
     "name": "stdout",
     "output_type": "stream",
     "text": [
      "9.000167710801437\n",
      "12.999999999999998\n"
     ]
    },
    {
     "data": {
      "text/plain": [
       "22.000167710801435"
      ]
     },
     "execution_count": 15,
     "metadata": {},
     "output_type": "execute_result"
    }
   ],
   "source": [
    "X = np.array([[1,2],[3,4]])\n",
    "y = np.array([1,-1])\n",
    "theta = np.array([2,3])\n",
    "f_objective(theta, X, y)"
   ]
  },
  {
   "cell_type": "code",
   "execution_count": 20,
   "metadata": {},
   "outputs": [
    {
     "data": {
      "text/plain": [
       "array([[ 0., -1.,  1.],\n",
       "       [ 0.,  1., -1.]])"
      ]
     },
     "execution_count": 20,
     "metadata": {},
     "output_type": "execute_result"
    }
   ],
   "source": [
    "ss = StandardScaler()\n",
    "a = np.array([[1,1,5],[1,2,2]])\n",
    "X_ = ss.fit_transform(a)\n",
    "X_"
   ]
  },
  {
   "cell_type": "code",
   "execution_count": 17,
   "metadata": {},
   "outputs": [
    {
     "data": {
      "text/plain": [
       "array([[1., 2., 1.],\n",
       "       [3., 4., 1.]])"
      ]
     },
     "execution_count": 17,
     "metadata": {},
     "output_type": "execute_result"
    }
   ],
   "source": [
    "np.hstack((X,np.ones((X.shape[0],1))))"
   ]
  },
  {
   "cell_type": "code",
   "execution_count": 24,
   "metadata": {},
   "outputs": [
    {
     "data": {
      "text/plain": [
       "(1600, 20)"
      ]
     },
     "execution_count": 24,
     "metadata": {},
     "output_type": "execute_result"
    }
   ],
   "source": [
    "d = np.loadtxt('X_train.txt', delimiter=',')\n",
    "d.shape"
   ]
  },
  {
   "cell_type": "code",
   "execution_count": 25,
   "metadata": {},
   "outputs": [
    {
     "data": {
      "text/plain": [
       "(1600,)"
      ]
     },
     "execution_count": 25,
     "metadata": {},
     "output_type": "execute_result"
    }
   ],
   "source": [
    "y = np.loadtxt('y_train.txt',  delimiter=',')\n",
    "y.shape"
   ]
  },
  {
   "cell_type": "markdown",
   "metadata": {},
   "source": [
    "## 3.3-4\n",
    " - lambda = 0.03을 선택한다."
   ]
  },
  {
   "cell_type": "code",
   "execution_count": 63,
   "metadata": {},
   "outputs": [],
   "source": [
    "X_train = np.loadtxt('X_train.txt', delimiter=',')\n",
    "y_train = np.loadtxt('y_train.txt',  delimiter=',')\n",
    "X_val = np.loadtxt('X_val.txt',  delimiter=',')\n",
    "y_val = np.loadtxt('y_val.txt',  delimiter=',')\n",
    "\n",
    "y_train[y_train == 0] = -1 ## label이 0인건 -1로 바꾼다.\n",
    "y_val[y_val == 0] = -1\n",
    "\n",
    "ss = StandardScaler()\n",
    "\n",
    "X_train = ss.fit_transform(X_train)\n",
    "X_train = np.hstack((X_train, np.ones((X_train.shape[0], 1)))) ## add bias term\n",
    "X_val = ss.fit_transform(X_val)\n",
    "X_val = np.hstack((X_val, np.ones((X_val.shape[0], 1)))) ## add bias term"
   ]
  },
  {
   "cell_type": "code",
   "execution_count": 79,
   "metadata": {},
   "outputs": [
    {
     "data": {
      "text/plain": [
       "Text(0, 0.5, 'empirical risk')"
      ]
     },
     "execution_count": 79,
     "metadata": {},
     "output_type": "execute_result"
    },
    {
     "data": {
      "image/png": "[encoded data removed]",
      "text/plain": [
       "<Figure size 864x504 with 1 Axes>"
      ]
     },
     "metadata": {
      "needs_background": "light"
     },
     "output_type": "display_data"
    }
   ],
   "source": [
    "def NLL(w,X,y):\n",
    "\n",
    "    likelhood = (-y) * np.dot(X,w)\n",
    "    likelhood = np.logaddexp(0,likelhood)\n",
    "    likelhood = np.sum(likelhood)\n",
    "    \n",
    "    return likelhood\n",
    "\n",
    "# candi = np.logspace(-5, -1, 40)\n",
    "candi = np.unique(np.concatenate((10.**np.arange(-6,1,1),np.arange(1,3,.3))))\n",
    "NLLs = []\n",
    "n = X_val.shape[0]\n",
    "for lambda_reg in candi:\n",
    "    w = fit_logistic_reg(X_train, y_train, f_objective, lambda_reg)\n",
    "    likelhood = NLL(w, X_val, y_val)\n",
    "    NLLs.append(likelhood)\n",
    "\n",
    "plt.figure(figsize=(12,7))\n",
    "plt.xscale('log')\n",
    "plt.plot(candi,NLLs)\n",
    "plt.xlabel('lambda')\n",
    "plt.ylabel('empirical risk')\n",
    "\n"
   ]
  },
  {
   "cell_type": "code",
   "execution_count": 84,
   "metadata": {},
   "outputs": [
    {
     "name": "stdout",
     "output_type": "stream",
     "text": [
      "[233.15476889569896, 232.8746001404337, 233.12846335757717, 233.65408068760973, 234.32600635616978, 235.07513126995454, 235.86083705566983, 236.66169791554887, 237.4613329660955]\n"
     ]
    },
    {
     "data": {
      "image/png": "[encoded data removed]",
      "text/plain": [
       "<Figure size 864x504 with 1 Axes>"
      ]
     },
     "metadata": {
      "needs_background": "light"
     },
     "output_type": "display_data"
    }
   ],
   "source": [
    "candi = np.arange(1,10)*0.01\n",
    "NLLs = []\n",
    "n = X_val.shape[0]\n",
    "for lambda_reg in candi:\n",
    "    w = fit_logistic_reg(X_train, y_train, f_objective, lambda_reg)\n",
    "    likelhood = NLL(w, X_val, y_val)\n",
    "    NLLs.append(likelhood)\n",
    "\n",
    "plt.figure(figsize=(12,7))\n",
    "plt.xscale('log')\n",
    "plt.plot(candi,NLLs)\n",
    "plt.xlabel('lambda')\n",
    "plt.ylabel('empirical risk')\n",
    "print(NLLs)"
   ]
  },
  {
   "cell_type": "markdown",
   "metadata": {},
   "source": [
    "## 3.3-5"
   ]
  },
  {
   "cell_type": "code",
   "execution_count": 86,
   "metadata": {},
   "outputs": [],
   "source": [
    "def sigmoid(x):\n",
    "    return 1/(1+np.exp(-x))"
   ]
  },
  {
   "cell_type": "code",
   "execution_count": 88,
   "metadata": {},
   "outputs": [],
   "source": [
    "w = fit_logistic_reg(X_train, y_train, f_objective, 0.03)"
   ]
  },
  {
   "cell_type": "code",
   "execution_count": 90,
   "metadata": {},
   "outputs": [],
   "source": [
    "predicted_positive_prob = sigmoid(X_val@w)"
   ]
  },
  {
   "cell_type": "code",
   "execution_count": 104,
   "metadata": {},
   "outputs": [],
   "source": [
    "positive_prob, mean_predicted_positive_prob = calibration_curve(y_val, predicted_positive_frac, n_bins= 6)"
   ]
  },
  {
   "cell_type": "markdown",
   "metadata": {},
   "source": [
    " - calibration_curve가 대충 s자 모양이다."
   ]
  },
  {
   "cell_type": "code",
   "execution_count": 106,
   "metadata": {},
   "outputs": [
    {
     "data": {
      "text/plain": [
       "Text(0, 0.5, 'positive_prob')"
      ]
     },
     "execution_count": 106,
     "metadata": {},
     "output_type": "execute_result"
    },
    {
     "data": {
      "image/png": "[encoded data removed]",
      "text/plain": [
       "<Figure size 864x504 with 1 Axes>"
      ]
     },
     "metadata": {
      "needs_background": "light"
     },
     "output_type": "display_data"
    }
   ],
   "source": [
    "plt.figure(figsize = (12,7))\n",
    "plt.plot(mean_predicted_positive_prob,positive_prob)\n",
    "plt.xlabel('mean_predicted_positive_prob')\n",
    "plt.ylabel('positive_prob')"
   ]
  }
 ],
 "metadata": {
  "kernelspec": {
   "display_name": "Python 3",
   "language": "python",
   "name": "python3"
  },
  "language_info": {
   "codemirror_mode": {
    "name": "ipython",
    "version": 3
   },
   "file_extension": ".py",
   "mimetype": "text/x-python",
   "name": "python",
   "nbconvert_exporter": "python",
   "pygments_lexer": "ipython3",
   "version": "3.8.3"
  }
 },
 "nbformat": 4,
 "nbformat_minor": 4
}
