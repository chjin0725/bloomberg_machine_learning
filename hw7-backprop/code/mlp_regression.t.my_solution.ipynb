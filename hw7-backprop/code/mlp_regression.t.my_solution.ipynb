{
 "cells": [
  {
   "cell_type": "code",
   "execution_count": 1,
   "metadata": {},
   "outputs": [
    {
     "name": "stderr",
     "output_type": "stream",
     "text": [
      "DEBUG: (Node affine) Max rel error for partial deriv w.r.t. W is 3.411963516337971e-08.\n",
      "DEBUG: (Node affine) Max rel error for partial deriv w.r.t. x is 3.630014279034913e-09.\n",
      "DEBUG: (Node affine) Max rel error for partial deriv w.r.t. b is 2.804313235368617e-09.\n",
      ".DEBUG: (Node tanh) Max rel error for partial deriv w.r.t. a is 2.0751308433341246e-08.\n",
      ".DEBUG: (Parameter W1) Max rel error for partial deriv 5.966136994521041e-06.\n",
      "DEBUG: (Parameter b1) Max rel error for partial deriv 4.9551335676933995e-06.\n",
      "DEBUG: (Parameter w2) Max rel error for partial deriv 9.74853450743866e-10.\n",
      "DEBUG: (Parameter b2) Max rel error for partial deriv 7.447854061800241e-10.\n",
      ".\n",
      "----------------------------------------------------------------------\n",
      "Ran 3 tests in 0.009s\n",
      "\n",
      "OK\n"
     ]
    }
   ],
   "source": [
    "\"\"\" Test cases for nodes.py \"\"\"\n",
    "import pdb\n",
    "#        pdb.set_trace()\n",
    "#\n",
    "import unittest\n",
    "import logging\n",
    "import mlp_regression\n",
    "import nodes\n",
    "import numpy as np\n",
    "import test_utils\n",
    "\n",
    "class TestNodes(unittest.TestCase):\n",
    "\n",
    "    def test_AffineNode(self):\n",
    "        W = nodes.ValueNode(node_name=\"W\")\n",
    "        x = nodes.ValueNode(node_name=\"x\")\n",
    "        b = nodes.ValueNode(node_name=\"b\")\n",
    "        affine_node = nodes.AffineNode(W, x, b, \"affine\")\n",
    "        m = 8\n",
    "        d = 5\n",
    "        init_vals = {\"W\":np.random.randn(m,d),\n",
    "                     \"b\":np.random.randn(m),\n",
    "                     \"x\":np.random.randn(d)}\n",
    "\n",
    "        max_rel_err = test_utils.test_node_backward(affine_node, init_vals, delta=1e-7)\n",
    "        max_allowed_rel_err = 1e-5\n",
    "        self.assertTrue(max_rel_err < max_allowed_rel_err)\n",
    "\n",
    "    def test_TanhNode(self):\n",
    "        a = nodes.ValueNode(node_name=\"a\")\n",
    "        tanh_node = nodes.TanhNode(a, \"tanh\")\n",
    "        m = 8\n",
    "        d = 5\n",
    "        init_vals = {\"a\":np.random.randn(m,d)}\n",
    "\n",
    "        max_rel_err = test_utils.test_node_backward(tanh_node, init_vals, delta=1e-7)\n",
    "        max_allowed_rel_err = 1e-5\n",
    "        self.assertTrue(max_rel_err < max_allowed_rel_err)\n",
    "\n",
    "    def test_mlp_regression_gradient(self):\n",
    "        estimator = mlp_regression.MLPRegression()\n",
    "        num_hidden_units = 4\n",
    "        num_ftrs = 5\n",
    "        input_vals = {\"x\": np.random.randn(num_ftrs)}\n",
    "        outcome_vals = {\"y\": np.array(np.random.randn())}\n",
    "        parameter_vals = {\"W1\": np.random.standard_normal((num_hidden_units, num_ftrs)),\n",
    "                          \"b1\": np.random.standard_normal((num_hidden_units)),\n",
    "                          \"w2\": np.random.standard_normal((num_hidden_units)),\n",
    "                          \"b2\": np.array(np.random.randn()) }\n",
    "\n",
    "        max_rel_err = test_utils.test_ComputationGraphFunction(estimator.graph, input_vals, outcome_vals, parameter_vals)\n",
    "\n",
    "        max_allowed_rel_err = 1e-5\n",
    "        self.assertTrue(max_rel_err < max_allowed_rel_err)\n",
    "\n",
    "\n",
    "\n",
    "if __name__ == \"__main__\":\n",
    "    unittest.main(argv=['first-arg-is-ignored'], exit=False)\n"
   ]
  }
 ],
 "metadata": {
  "kernelspec": {
   "display_name": "Python 3",
   "language": "python",
   "name": "python3"
  },
  "language_info": {
   "codemirror_mode": {
    "name": "ipython",
    "version": 3
   },
   "file_extension": ".py",
   "mimetype": "text/x-python",
   "name": "python",
   "nbconvert_exporter": "python",
   "pygments_lexer": "ipython3",
   "version": "3.8.3"
  }
 },
 "nbformat": 4,
 "nbformat_minor": 4
}
