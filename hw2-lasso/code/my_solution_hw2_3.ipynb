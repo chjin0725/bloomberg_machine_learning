{
 "cells": [
  {
   "cell_type": "code",
   "execution_count": 39,
   "metadata": {},
   "outputs": [],
   "source": [
    "from sklearn.base import BaseEstimator, RegressorMixin\n",
    "from scipy.optimize import minimize\n",
    "import numpy as np\n",
    "import matplotlib.pyplot as plt\n",
    "from sklearn.model_selection import GridSearchCV, PredefinedSplit\n",
    "from sklearn.model_selection import ParameterGrid\n",
    "from sklearn.metrics import mean_squared_error, make_scorer\n",
    "import pandas as pd\n",
    "import random\n",
    "\n",
    "from setup_problem import load_problem"
   ]
  },
  {
   "cell_type": "code",
   "execution_count": 2,
   "metadata": {},
   "outputs": [],
   "source": [
    "def lasso_objective_func(X, y, w, lambda_reg):\n",
    "    loss = np.sum((np.dot(X,w)-y)**2)\n",
    "    l1 = lambda_reg*np.linalg.norm(w, ord=1)\n",
    "    \n",
    "    return loss + l1"
   ]
  },
  {
   "cell_type": "code",
   "execution_count": 4,
   "metadata": {},
   "outputs": [
    {
     "data": {
      "text/plain": [
       "631.0"
      ]
     },
     "execution_count": 4,
     "metadata": {},
     "output_type": "execute_result"
    }
   ],
   "source": [
    "X = np.array([[1,2,3],[4,5,6]])\n",
    "y = np.array([7,8])\n",
    "w = np.array([1,2,3])\n",
    "lasso_objective_func(X, y, w, 1)"
   ]
  },
  {
   "cell_type": "code",
   "execution_count": 11,
   "metadata": {},
   "outputs": [
    {
     "data": {
      "text/plain": [
       "20"
      ]
     },
     "execution_count": 11,
     "metadata": {},
     "output_type": "execute_result"
    }
   ],
   "source": [
    "a = np.array([2,3,4])\n",
    "np.dot(a.T,w)"
   ]
  },
  {
   "cell_type": "code",
   "execution_count": 14,
   "metadata": {},
   "outputs": [
    {
     "data": {
      "text/plain": [
       "6.0"
      ]
     },
     "execution_count": 14,
     "metadata": {},
     "output_type": "execute_result"
    }
   ],
   "source": [
    "np.linalg.norm(np.array([-1,-2,3]),ord=1)"
   ]
  },
  {
   "cell_type": "code",
   "execution_count": 33,
   "metadata": {},
   "outputs": [
    {
     "data": {
      "text/plain": [
       "[{'l1reg': array([1.0e-06, 1.0e-05, 1.0e-04, 1.0e-03, 1.0e-02, 1.0e-01, 1.0e+00,\n",
       "         1.3e+00, 1.6e+00, 1.9e+00, 2.2e+00, 2.5e+00, 2.8e+00])}]"
      ]
     },
     "execution_count": 33,
     "metadata": {},
     "output_type": "execute_result"
    }
   ],
   "source": [
    "[{'l1reg':np.unique(np.concatenate((10.**np.arange(-6,1,1),\n",
    "                                           np.arange(1,3,.3)\n",
    "                                             ))) }]"
   ]
  },
  {
   "cell_type": "code",
   "execution_count": 76,
   "metadata": {},
   "outputs": [
    {
     "data": {
      "text/plain": [
       "array([0.        , 0.09090909, 0.18181818, 0.27272727, 0.36363636,\n",
       "       0.45454545, 0.54545455, 0.63636364, 0.72727273, 0.81818182,\n",
       "       0.90909091])"
      ]
     },
     "execution_count": 76,
     "metadata": {},
     "output_type": "execute_result"
    }
   ],
   "source": [
    "np.linspace(0, 1, 11, endpoint=False)"
   ]
  },
  {
   "cell_type": "code",
   "execution_count": 12,
   "metadata": {},
   "outputs": [],
   "source": [
    "def lasso_shooting_algo(X, y, lambda_reg):\n",
    "    w = np.dot(X.T,X)+lambda_reg*np.identity(X.shape[1])\n",
    "    w = np.linalg.inv(w)\n",
    "    w = np.dot(w,X.T)\n",
    "    w = np.dot(w,y)\n",
    "    \n",
    "    def soft(a, delta):\n",
    "        temp = abs(a) - delta\n",
    "        if temp <= 0:\n",
    "            return 0\n",
    "        else:\n",
    "            return np.sign(a)*temp\n",
    "    \n",
    "    while lasso_objective_func(X, y, w, lambda_reg) > 1e-8:\n",
    "        for j in range(X.shape[1]):\n",
    "            a_j = 2*np.sum((X[:,j]**2))\n",
    "            \n",
    "            c_j = y - np.dot(X,w) + w[j]*X[:,j]\n",
    "            c_j = 2*np.dot(X[:,j],c_j)\n",
    "            \n",
    "            w[j] = soft(c_j/a_j, lambda_reg/a_j)\n",
    "    \n",
    "    return w\n",
    "            \n",
    "    "
   ]
  },
  {
   "cell_type": "code",
   "execution_count": 58,
   "metadata": {},
   "outputs": [],
   "source": [
    "class LassoRegression(BaseEstimator, RegressorMixin): ## BaseEstimator를 상속받으면 GridSearchCV를 쓸 수 있다.\n",
    "    \"\"\" ridge regression\"\"\"\n",
    "\n",
    "    def __init__(self, l1reg=1):\n",
    "        if l1reg < 0:\n",
    "            raise ValueError('Regularization penalty should be at least 0.')\n",
    "        self.l1reg = l1reg\n",
    "        self.max_step = 1000\n",
    "\n",
    "    \n",
    "    def fit(self, X, y=None, set_w_to_zero = False):\n",
    "        \n",
    "        def lasso_objective_func(X, y, w, lambda_reg):\n",
    "            loss = np.sum((np.dot(X,w)-y)**2)\n",
    "            l1 = lambda_reg*np.linalg.norm(w, ord=1)\n",
    "            return loss + l1\n",
    "\n",
    "        def soft(a, delta):\n",
    "            temp = abs(a) - delta\n",
    "            if temp <= 0:\n",
    "                return 0\n",
    "            else:\n",
    "                return np.sign(a)*temp\n",
    "        \n",
    "        if set_w_to_zero:\n",
    "            w = np.zeros(X.shape[1])\n",
    "        else:\n",
    "            w = np.dot(X.T,X)+self.l1reg*np.identity(X.shape[1])\n",
    "            w = np.linalg.inv(w)\n",
    "            w = np.dot(w,X.T)\n",
    "            w = np.dot(w,y)\n",
    "        \n",
    "        step = 0\n",
    "        while lasso_objective_func(X, y, w, self.l1reg) > 1e-8 and step < self.max_step:\n",
    "            step += 1\n",
    "            for j in range(X.shape[1]):\n",
    "                a_j = 2*np.sum((X[:,j]**2))\n",
    "\n",
    "                c_j = y - np.dot(X,w) + w[j]*X[:,j]\n",
    "                c_j = 2*np.dot(X[:,j],c_j)\n",
    "                \n",
    "                if a_j == 0:\n",
    "                    w[j] = 0\n",
    "                else:\n",
    "                    w[j] = soft(c_j/a_j, self.l1reg/a_j)\n",
    "        \n",
    "        self.w_ = w ## _는 convention 같은거임.내부적으로 사용되는 변수라는 뜻이며 다른 기본 키워드들과의 충돌을 피하기 위함.\n",
    "        return self\n",
    "\n",
    "    def predict(self, X, y=None):\n",
    "        try:\n",
    "            getattr(self, \"w_\") ## getattr(object, 'x') 은 object.x와 완전히 동일하다.\n",
    "        except AttributeError:\n",
    "            raise RuntimeError(\"You must train classifer before predicting data!\")\n",
    "        return np.dot(X, self.w_)\n",
    "\n",
    "    def score(self, X, y):\n",
    "        # Average square error\n",
    "        try:\n",
    "            getattr(self, \"w_\")\n",
    "        except AttributeError:\n",
    "            raise RuntimeError(\"You must train classifer before predicting data!\")\n",
    "        residuals = self.predict(X) - y\n",
    "        return np.dot(residuals, residuals)/len(y)"
   ]
  },
  {
   "cell_type": "code",
   "execution_count": 50,
   "metadata": {},
   "outputs": [],
   "source": [
    "class LassoRegression_random_coodinate(BaseEstimator, RegressorMixin):\n",
    "    \"\"\" ridge regression\"\"\"\n",
    "\n",
    "    def __init__(self, l1reg=1):\n",
    "        if l1reg < 0:\n",
    "            raise ValueError('Regularization penalty should be at least 0.')\n",
    "        self.l1reg = l1reg\n",
    "        self.max_step = 1000\n",
    "\n",
    "    \n",
    "    def fit(self, X, y=None):\n",
    "        \n",
    "        def lasso_objective_func(X, y, w, lambda_reg):\n",
    "            loss = np.sum((np.dot(X,w)-y)**2)\n",
    "            l1 = lambda_reg*np.linalg.norm(w, ord=1)\n",
    "            return loss + l1\n",
    "\n",
    "        def soft(a, delta):\n",
    "            temp = abs(a) - delta\n",
    "            if temp <= 0:\n",
    "                return 0\n",
    "            else:\n",
    "                return np.sign(a)*temp\n",
    "            \n",
    "        w = np.dot(X.T,X)+self.l1reg*np.identity(X.shape[1])\n",
    "        w = np.linalg.inv(w)\n",
    "        w = np.dot(w,X.T)\n",
    "        w = np.dot(w,y)\n",
    "        \n",
    "        step = 0\n",
    "        while lasso_objective_func(X, y, w, self.l1reg) > 1e-8 and step < self.max_step:\n",
    "            step += 1\n",
    "            index = list(range(X.shape[1]))\n",
    "            random.shuffle(index)\n",
    "            for j in index:\n",
    "                a_j = 2*np.sum((X[:,j]**2))\n",
    "\n",
    "                c_j = y - np.dot(X,w) + w[j]*X[:,j]\n",
    "                c_j = 2*np.dot(X[:,j],c_j)\n",
    "                \n",
    "                if a_j == 0:\n",
    "                    w[j] = 0\n",
    "                else:\n",
    "                    w[j] = soft(c_j/a_j, self.l1reg/a_j)\n",
    "        \n",
    "        self.w_ = w ## _는 convention 같은거임.내부적으로 사용되는 변수라는 뜻이며 다른 기본 키워드들과의 충돌을 피하기 위함.\n",
    "        return self\n",
    "\n",
    "    def predict(self, X, y=None):\n",
    "        try:\n",
    "            getattr(self, \"w_\") ## getattr(object, 'x') 은 object.x와 완전히 동일하다.\n",
    "        except AttributeError:\n",
    "            raise RuntimeError(\"You must train classifer before predicting data!\")\n",
    "        return np.dot(X, self.w_)\n",
    "\n",
    "    def score(self, X, y):\n",
    "        # Average square error\n",
    "        try:\n",
    "            getattr(self, \"w_\")\n",
    "        except AttributeError:\n",
    "            raise RuntimeError(\"You must train classifer before predicting data!\")\n",
    "        residuals = self.predict(X) - y\n",
    "        return np.dot(residuals, residuals)/len(y)"
   ]
  },
  {
   "cell_type": "code",
   "execution_count": 64,
   "metadata": {},
   "outputs": [],
   "source": [
    "def do_grid_search_ridge(X_train, y_train, X_val, y_val):\n",
    "    # Now let's use sklearn to help us do hyperparameter tuning\n",
    "    # GridSearchCv.fit by default splits the data into training and\n",
    "    # validation itself; we want to use our own splits, so we need to stack our\n",
    "    # training and validation sets together, and supply an index\n",
    "    # (validation_fold) to specify which entries are train and which are\n",
    "    # validation.\n",
    "    X_train_val = np.vstack((X_train, X_val))\n",
    "    y_train_val = np.concatenate((y_train, y_val))\n",
    "    val_fold = [-1]*len(X_train) + [0]*len(X_val) #0 corresponds to validation\n",
    "\n",
    "    # Now we set up and do the grid search over l2reg. The np.concatenate\n",
    "    # command illustrates my search for the best hyperparameter. In each line,\n",
    "    # I'm zooming in to a particular hyperparameter range that showed promise\n",
    "    # in the previous grid. This approach works reasonably well when\n",
    "    # performance is convex as a function of the hyperparameter, which it seems\n",
    "    # to be here.\n",
    "\n",
    "#     param_grid = [{'l1reg':np.unique(np.arange(0.01,0.1,0.01))}] ## LassoRegression()의 인수로 l1reg=0.01부터 차례로 들어감.\n",
    "#     param_grid = [{'l1reg':np.unique(np.arange(0.1,1,0.1))}]\n",
    "#     param_grid = [{'l1reg':np.unique(np.arange(1,10,1))}]\n",
    "#     param_grid = [{'l1reg':np.unique(np.arange(1,2,0.1))}]\n",
    "    param_grid = [{'l1reg':np.unique(np.arange(1,1.4,0.1))}]\n",
    "\n",
    "    lasso_regression_estimator = LassoRegression()\n",
    "    grid = GridSearchCV(lasso_regression_estimator,\n",
    "                        param_grid,\n",
    "                        return_train_score=True,\n",
    "                        cv = PredefinedSplit(test_fold=val_fold),\n",
    "                        refit = True,\n",
    "                        scoring = make_scorer(mean_squared_error,\n",
    "                                              greater_is_better = False))\n",
    "    grid.fit(X_train_val, y_train_val)\n",
    "\n",
    "    df = pd.DataFrame(grid.cv_results_)\n",
    "    # Flip sign of score back, because GridSearchCV likes to maximize, ### 음수로 바꿔서 최대화 하는 것은 원래것을 최소화 하는 것과 같다.\n",
    "    # so it flips the sign of the score if \"greater_is_better=FALSE\"\n",
    "    df['mean_test_score'] = -df['mean_test_score']\n",
    "    df['mean_train_score'] = -df['mean_train_score']\n",
    "    cols_to_keep = [\"param_l1reg\", \"mean_test_score\",\"mean_train_score\"]\n",
    "    df_toshow = df[cols_to_keep].fillna('-')\n",
    "    df_toshow = df_toshow.sort_values(by=[\"param_l1reg\"])\n",
    "    return grid, df_toshow"
   ]
  },
  {
   "cell_type": "code",
   "execution_count": 62,
   "metadata": {},
   "outputs": [],
   "source": [
    "def compare_parameter_vectors(pred_fns):\n",
    "    # Assumes pred_fns is a list of dicts, and each dict has a \"name\" key and a\n",
    "    # \"coefs\" key\n",
    "    fig, axs = plt.subplots(len(pred_fns),1, sharex=True, figsize=(6,12))\n",
    "    num_ftrs = len(pred_fns[0][\"coefs\"])\n",
    "    for i in range(len(pred_fns)):\n",
    "        title = pred_fns[i][\"name\"]\n",
    "        coef_vals = pred_fns[i][\"coefs\"]\n",
    "        axs[i].bar(range(num_ftrs), coef_vals)\n",
    "        axs[i].set_xlabel('Feature Index')\n",
    "        axs[i].set_ylabel('Parameter Value')\n",
    "        axs[i].set_title(title)\n",
    "\n",
    "    fig.subplots_adjust(hspace=0.3)\n",
    "    return fig"
   ]
  },
  {
   "cell_type": "code",
   "execution_count": 63,
   "metadata": {},
   "outputs": [],
   "source": [
    "def plot_prediction_functions(x, pred_fns, x_train, y_train, legend_loc=\"best\"):\n",
    "    # Assumes pred_fns is a list of dicts, and each dict has a \"name\" key and a\n",
    "    # \"preds\" key. The value corresponding to the \"preds\" key is an array of\n",
    "    # predictions corresponding to the input vector x. x_train and y_train are\n",
    "    # the input and output values for the training data\n",
    "    fig, ax = plt.subplots(figsize = (20,12))\n",
    "    ax.set_xlabel('Input Space: [0,1)')\n",
    "    ax.set_ylabel('Action/Outcome Space')\n",
    "    ax.set_title(\"Prediction Functions\")\n",
    "    plt.scatter(x_train, y_train, label='Training data')\n",
    "    for i in range(len(pred_fns)):\n",
    "        ax.plot(x, pred_fns[i][\"preds\"], label=pred_fns[i][\"name\"])\n",
    "    legend = ax.legend(loc=legend_loc, shadow=True)\n",
    "    return fig"
   ]
  },
  {
   "cell_type": "code",
   "execution_count": 73,
   "metadata": {},
   "outputs": [],
   "source": [
    "def main():\n",
    "    lasso_data_fname = \"lasso_data.pickle\"\n",
    "    x_train, y_train, x_val, y_val, target_fn, coefs_true, featurize = load_problem(lasso_data_fname)\n",
    "\n",
    "    # Generate features\n",
    "    X_train = featurize(x_train)\n",
    "    X_val = featurize(x_val)\n",
    "\n",
    "\n",
    "\n",
    "    # Do hyperparameter tuning with our ridge regression\n",
    "    grid, results = do_grid_search_ridge(X_train, y_train, X_val, y_val)\n",
    "    print(results)\n",
    "\n",
    "    # Plot validation performance vs regularization parameter\n",
    "    fig, ax = plt.subplots()\n",
    "#    ax.loglog(results[\"param_l2reg\"], results[\"mean_test_score\"])\n",
    "    ax.semilogx(results[\"param_l1reg\"], results[\"mean_test_score\"])\n",
    "    ax.grid()\n",
    "    ax.set_title(\"Validation Performance vs L2 Regularization\")\n",
    "    ax.set_xlabel(\"L1-Penalty Regularization Parameter\")\n",
    "    ax.set_ylabel(\"Mean Squared Error\")\n",
    "    fig.show()\n",
    "\n",
    "    # Let's plot prediction functions and compare coefficients for several fits\n",
    "    # and the target function.\n",
    "    \n",
    "#     pred_fns = []\n",
    "#     x = np.sort(np.concatenate([np.arange(0,1,.001), x_train]))\n",
    "#     name = \"Target Parameter Values (i.e. Bayes Optimal)\"\n",
    "#     pred_fns.append({\"name\":name, \"coefs\":coefs_true, \"preds\": target_fn(x) })\n",
    "\n",
    "#     l1regs = [0, grid.best_params_['l1reg'], 1]\n",
    "#     X = featurize(x)\n",
    "#     for l1reg in l1regs:\n",
    "#         lasso_regression_estimator = LassoRegression(l1reg=l1reg)\n",
    "#         lasso_regression_estimator.fit(X_train, y_train)\n",
    "#         name = \"lasso with L1Reg=\"+str(l1reg)\n",
    "#         pred_fns.append({\"name\":name,\n",
    "#                          \"coefs\":lasso_regression_estimator.w_,\n",
    "#                          \"preds\": lasso_regression_estimator.predict(X) })\n",
    "\n",
    "#     f = plot_prediction_functions(x, pred_fns, x_train, y_train, legend_loc=\"best\")\n",
    "#     f.show()\n",
    "\n",
    "#     f = compare_parameter_vectors(pred_fns)\n",
    "#     f.show()\n"
   ]
  },
  {
   "cell_type": "code",
   "execution_count": 72,
   "metadata": {},
   "outputs": [],
   "source": [
    "def main2():\n",
    "    lasso_data_fname = \"lasso_data.pickle\"\n",
    "    x_train, y_train, x_val, y_val, target_fn, coefs_true, featurize = load_problem(lasso_data_fname)\n",
    "\n",
    "    # Generate features\n",
    "    X_train = featurize(x_train)\n",
    "    X_val = featurize(x_val)\n",
    "\n",
    "\n",
    "\n",
    "\n",
    "\n",
    "    # Let's plot prediction functions and compare coefficients for several fits\n",
    "    # and the target function.\n",
    "    \n",
    "    pred_fns = []\n",
    "    x = np.sort(np.concatenate([np.arange(0,1,.001), x_train]))\n",
    "    name = \"Target Parameter Values (i.e. Bayes Optimal)\"\n",
    "    pred_fns.append({\"name\":name, \"coefs\":coefs_true, \"preds\": target_fn(x) })\n",
    "\n",
    "    l1regs = [1.2]\n",
    "    X = featurize(x)\n",
    "    for l1reg in l1regs:\n",
    "        lasso_regression_estimator = LassoRegression(l1reg=l1reg)\n",
    "        lasso_regression_estimator.fit(X_train, y_train)\n",
    "        name = \"lasso with L1Reg=\"+str(l1reg)\n",
    "        pred_fns.append({\"name\":name,\n",
    "                         \"coefs\":lasso_regression_estimator.w_,\n",
    "                         \"preds\": lasso_regression_estimator.predict(X) })\n",
    "\n",
    "    f = plot_prediction_functions(x, pred_fns, x_train, y_train, legend_loc=\"best\")\n",
    "    f.show()\n",
    "\n",
    "    f = compare_parameter_vectors(pred_fns)\n",
    "    f.show()"
   ]
  },
  {
   "cell_type": "markdown",
   "metadata": {},
   "source": [
    "# lambda = 1.2~1.3에서 최소"
   ]
  },
  {
   "cell_type": "code",
   "execution_count": 25,
   "metadata": {},
   "outputs": [
    {
     "name": "stdout",
     "output_type": "stream",
     "text": [
      "   param_l1reg  mean_test_score  mean_train_score\n",
      "0         0.01         0.171411          0.006805\n",
      "1         0.02         0.170180          0.006964\n",
      "2         0.03         0.169033          0.007228\n",
      "3         0.04         0.167876          0.007572\n",
      "4         0.05         0.166753          0.007987\n",
      "5         0.06         0.165677          0.008479\n",
      "6         0.07         0.164753          0.009037\n",
      "7         0.08         0.163881          0.009679\n",
      "8         0.09         0.162982          0.010392\n"
     ]
    },
    {
     "name": "stderr",
     "output_type": "stream",
     "text": [
      "<ipython-input-17-f3171d28f6ee>:23: UserWarning: Matplotlib is currently using module://ipykernel.pylab.backend_inline, which is a non-GUI backend, so cannot show the figure.\n",
      "  fig.show()\n"
     ]
    },
    {
     "data": {
      "image/png": "[encoded data removed]",
      "text/plain": [
       "<Figure size 432x288 with 1 Axes>"
      ]
     },
     "metadata": {
      "needs_background": "light"
     },
     "output_type": "display_data"
    }
   ],
   "source": [
    "if __name__ == '__main__':\n",
    "  main()"
   ]
  },
  {
   "cell_type": "code",
   "execution_count": 37,
   "metadata": {},
   "outputs": [
    {
     "name": "stdout",
     "output_type": "stream",
     "text": [
      "   param_l1reg  mean_test_score  mean_train_score\n",
      "0          1.0         0.126438          0.091950\n",
      "1          1.1         0.126065          0.094844\n",
      "2          1.2         0.125951          0.095711\n",
      "3          1.3         0.125951          0.096654\n",
      "4          1.4         0.126064          0.097672\n",
      "5          1.5         0.126192          0.098766\n",
      "6          1.6         0.126450          0.099935\n",
      "7          1.7         0.126767          0.101180\n",
      "8          1.8         0.127151          0.102499\n",
      "9          1.9         0.127530          0.103895\n"
     ]
    },
    {
     "name": "stderr",
     "output_type": "stream",
     "text": [
      "<ipython-input-17-f3171d28f6ee>:23: UserWarning: Matplotlib is currently using module://ipykernel.pylab.backend_inline, which is a non-GUI backend, so cannot show the figure.\n",
      "  fig.show()\n"
     ]
    },
    {
     "data": {
      "image/png": "[encoded data removed]",
      "text/plain": [
       "<Figure size 432x288 with 1 Axes>"
      ]
     },
     "metadata": {
      "needs_background": "light"
     },
     "output_type": "display_data"
    }
   ],
   "source": [
    "if __name__ == '__main__':\n",
    "  main()"
   ]
  },
  {
   "cell_type": "markdown",
   "metadata": {},
   "source": [
    "# random coordinate descent와 비교\n",
    " - 점수가 더 잘나오긴 하지만 random coordinate descent가 더 좋다는 뜻은 아닌 것 같다.\n",
    " - 생각해보면 순서대로 하나 random으로 하나 다를게 없음.\n",
    " - 원래 X를 쓰나 X의 열을 셔플해준 새로운 X'을 쓰나 결과가 달라지진 않기 때문."
   ]
  },
  {
   "cell_type": "code",
   "execution_count": 52,
   "metadata": {},
   "outputs": [],
   "source": [
    "lasso_random_coodinate = LassoRegression_random_coodinate(l1reg = 1.2)"
   ]
  },
  {
   "cell_type": "code",
   "execution_count": 53,
   "metadata": {},
   "outputs": [
    {
     "data": {
      "text/plain": [
       "LassoRegression_random_coodinate(l1reg=1.2)"
      ]
     },
     "execution_count": 53,
     "metadata": {},
     "output_type": "execute_result"
    }
   ],
   "source": [
    "lasso_data_fname = \"lasso_data.pickle\"\n",
    "x_train, y_train, x_val, y_val, target_fn, coefs_true, featurize = load_problem(lasso_data_fname)\n",
    "X_train = featurize(x_train)\n",
    "X_val = featurize(x_val)\n",
    "\n",
    "lasso_random_coodinate.fit(X_train,y_train)"
   ]
  },
  {
   "cell_type": "code",
   "execution_count": 57,
   "metadata": {},
   "outputs": [
    {
     "data": {
      "text/plain": [
       "0.12470221703857617"
      ]
     },
     "execution_count": 57,
     "metadata": {},
     "output_type": "execute_result"
    }
   ],
   "source": [
    "lasso_random_coodinate.score(X_val, y_val)"
   ]
  },
  {
   "cell_type": "markdown",
   "metadata": {},
   "source": [
    "# w의 초기값을 0으로 할 경우\n",
    " - 점수가 훨씬 안좋아짐. 왜 일까?\n",
    " - 일단 lasso에서 coodinate descent는 closed form solution을 가진다.\n",
    " - 즉, w의 초기값에 상관없이 결국엔 solution에 수렴한다.\n",
    " - 다만 내가 위에서 구현한 함수는 max_step을 1000으로 제한해놓았다.\n",
    " - w를 0으로 초기화하면 solution과 더 멀리 있게 될 여지가 크므로 max_step이 1000으로 제한되어 있으면 최적점 근처에 가지 못한채로 끝날 수 있다.\n",
    " - w를 ridge regression의 solution으로 초기화하면 lasso에서의 최적점에 보다 가까운 점에서 시작하므로 이런 결과가 나온 것."
   ]
  },
  {
   "cell_type": "code",
   "execution_count": 59,
   "metadata": {},
   "outputs": [],
   "source": [
    "lasso = LassoRegression(l1reg = 1.2)"
   ]
  },
  {
   "cell_type": "code",
   "execution_count": 60,
   "metadata": {},
   "outputs": [
    {
     "data": {
      "text/plain": [
       "LassoRegression(l1reg=1.2)"
      ]
     },
     "execution_count": 60,
     "metadata": {},
     "output_type": "execute_result"
    }
   ],
   "source": [
    "lasso.fit(X_train, y_train, set_w_to_zero=True)"
   ]
  },
  {
   "cell_type": "code",
   "execution_count": 61,
   "metadata": {},
   "outputs": [
    {
     "data": {
      "text/plain": [
       "0.16747102920538232"
      ]
     },
     "execution_count": 61,
     "metadata": {},
     "output_type": "execute_result"
    }
   ],
   "source": [
    "lasso.score(X_val, y_val)"
   ]
  },
  {
   "cell_type": "markdown",
   "metadata": {},
   "source": [
    "#  target function과의 비교\n",
    " - ridge보다 확실히 더 비슷하다.\n",
    " - ridge는 여러 feature에 가중치를 골고루 주려 하지만 lasso는 중요한 feature에만 가중치를 몰아주기 때문.\n",
    " - validation set과의 스코어를 비교해 봐도 ridge는 1.4점대였음."
   ]
  },
  {
   "cell_type": "code",
   "execution_count": 74,
   "metadata": {},
   "outputs": [
    {
     "name": "stderr",
     "output_type": "stream",
     "text": [
      "<ipython-input-72-450793f23d69>:32: UserWarning: Matplotlib is currently using module://ipykernel.pylab.backend_inline, which is a non-GUI backend, so cannot show the figure.\n",
      "  f.show()\n",
      "<ipython-input-72-450793f23d69>:35: UserWarning: Matplotlib is currently using module://ipykernel.pylab.backend_inline, which is a non-GUI backend, so cannot show the figure.\n",
      "  f.show()\n"
     ]
    },
    {
     "data": {
      "image/png": "[encoded data removed]",
      "text/plain": [
       "<Figure size 1440x864 with 1 Axes>"
      ]
     },
     "metadata": {
      "needs_background": "light"
     },
     "output_type": "display_data"
    },
    {
     "data": {
      "image/png": "[encoded data removed]",
      "text/plain": [
       "<Figure size 432x864 with 2 Axes>"
      ]
     },
     "metadata": {
      "needs_background": "light"
     },
     "output_type": "display_data"
    }
   ],
   "source": [
    "if __name__ == '__main__':\n",
    "  main2()"
   ]
  },
  {
   "cell_type": "code",
   "execution_count": null,
   "metadata": {},
   "outputs": [],
   "source": []
  }
 ],
 "metadata": {
  "kernelspec": {
   "display_name": "Python 3",
   "language": "python",
   "name": "python3"
  },
  "language_info": {
   "codemirror_mode": {
    "name": "ipython",
    "version": 3
   },
   "file_extension": ".py",
   "mimetype": "text/x-python",
   "name": "python",
   "nbconvert_exporter": "python",
   "pygments_lexer": "ipython3",
   "version": "3.8.3"
  }
 },
 "nbformat": 4,
 "nbformat_minor": 4
}
