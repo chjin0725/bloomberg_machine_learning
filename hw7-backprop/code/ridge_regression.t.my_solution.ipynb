{
 "cells": [
  {
   "cell_type": "code",
   "execution_count": 1,
   "metadata": {},
   "outputs": [],
   "source": [
    "import unittest\n",
    "import logging\n",
    "import ridge_regression as ridge\n",
    "import numpy as np\n",
    "import test_utils\n",
    "import graph\n",
    "import nodes"
   ]
  },
  {
   "cell_type": "code",
   "execution_count": 2,
   "metadata": {},
   "outputs": [
    {
     "name": "stderr",
     "output_type": "stream",
     "text": [
      "DEBUG: (Node l2 norm node) Max rel error for partial deriv w.r.t. w is 4.857823846961308e-09.\n",
      ".DEBUG: (Node sum node) Max rel error for partial deriv w.r.t. a is 5.838672493890054e-10.\n",
      "DEBUG: (Node sum node) Max rel error for partial deriv w.r.t. b is 5.838672493890054e-10.\n",
      ".DEBUG: (Parameter w) Max rel error for partial deriv 8.397314866623126e-08.\n",
      "DEBUG: (Parameter b) Max rel error for partial deriv 5.543601187748044e-10.\n",
      ".\n",
      "----------------------------------------------------------------------\n",
      "Ran 3 tests in 0.008s\n",
      "\n",
      "OK\n"
     ]
    }
   ],
   "source": [
    "\n",
    "\n",
    "logging.basicConfig(format='%(levelname)s: %(message)s',level=logging.DEBUG)\n",
    "\n",
    "class TestAll(unittest.TestCase):\n",
    "\n",
    "    def test_SumNode(self):\n",
    "        max_allowed_rel_err = 1e-5\n",
    "        a = nodes.ValueNode(\"a\")\n",
    "        b = nodes.ValueNode(\"b\")\n",
    "        dims = ()\n",
    "        a_val = np.array(np.random.standard_normal(dims))\n",
    "        b_val = np.array(np.random.standard_normal(dims))\n",
    "        sum_node = nodes.SumNode(a, b, \"sum node\")\n",
    "\n",
    "        init_vals = {\"a\":a_val, \"b\":b_val}\n",
    "        max_rel_err = test_utils.test_node_backward(sum_node, init_vals, delta=1e-7)\n",
    "        self.assertTrue(max_rel_err < max_allowed_rel_err)\n",
    "\n",
    "    def test_L2NormPenaltyNode(self):\n",
    "        max_allowed_rel_err = 1e-5\n",
    "        l2_reg = np.array(4.0)\n",
    "        w = nodes.ValueNode(\"w\")\n",
    "        l2_norm_node = nodes.L2NormPenaltyNode(l2_reg, w, \"l2 norm node\")\n",
    "        d = (5)\n",
    "        init_vals = {\"w\":np.array(np.random.standard_normal(d))}\n",
    "        max_rel_err = test_utils.test_node_backward(l2_norm_node, init_vals, delta=1e-7)\n",
    "        self.assertTrue(max_rel_err < max_allowed_rel_err)\n",
    "\n",
    "    def test_ridge_regression_gradient(self):\n",
    "        estimator = ridge.RidgeRegression(l2_reg=.01)\n",
    "        d = 5\n",
    "        input_vals = {\"x\": np.random.randn(d)}\n",
    "        outcome_vals = {\"y\": np.array(np.random.randn())}\n",
    "        parameter_vals = {\"w\": np.random.randn(d), \"b\":np.array(np.random.randn())}\n",
    "\n",
    "        test_utils.test_ComputationGraphFunction(estimator.graph, input_vals, outcome_vals, parameter_vals)\n",
    "        self.assertTrue(1 == 1)\n",
    "\n",
    "if __name__ == \"__main__\":\n",
    "    unittest.main(argv=['first-arg-is-ignored'], exit=False)\n"
   ]
  }
 ],
 "metadata": {
  "kernelspec": {
   "display_name": "Python 3",
   "language": "python",
   "name": "python3"
  },
  "language_info": {
   "codemirror_mode": {
    "name": "ipython",
    "version": 3
   },
   "file_extension": ".py",
   "mimetype": "text/x-python",
   "name": "python",
   "nbconvert_exporter": "python",
   "pygments_lexer": "ipython3",
   "version": "3.8.3"
  }
 },
 "nbformat": 4,
 "nbformat_minor": 4
}
